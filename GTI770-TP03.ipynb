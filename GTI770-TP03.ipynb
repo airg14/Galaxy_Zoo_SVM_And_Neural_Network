{
 "cells": [
  {
   "cell_type": "markdown",
   "metadata": {},
   "source": [
    "# GTI770 - TP03 - Machines à vecteur de support et réseaux neuronaux \n",
    "\n",
    "| Étudiants             | GUEGAN - 14059606 - LECHERE - 0305970                                   |\n",
    "|-----------------------|---------------------------------------------------------|\n",
    "| Cours                 | GTI770 - Systèmes intelligents et apprentissage machine |\n",
    "| Session               | AUTOMNE 2019                                            |\n",
    "| Groupe                | 01                                                       |\n",
    "| Numéro du laboratoire | 03                                                       |\n",
    "| Professeur            | Prof. Hervé Lombaert                                               |\n",
    "| Chargé de laboratoire | Pierre-Luc Delisle\n",
    "|\n",
    "| Date                  | DATE         \n",
    "\n",
    "Ce laboratoire a pour but de manipuler un réseau de nerones à partir de TensorFlow et un modèle de type SVM. Nous nous appuierons sur TensorBoard et Matplotlib pour présenter les résultats en fonction de la taille des données utilisées et des hyperparamètres sélectionnés.\n",
    "\n",
    "## Plan du TP03\n",
    "Ce TP aura une structure très simple. Nous allons tout d'abord présenter le code qui permettra de construire les différents modèles en fonction des hyperparamètres et de la taille de l'échantillon de données. Nous essaierons de répondre aux questions du sujets en parallèle lorsque ce sera justifié et à la fin du rapport lorsque nous aurons des interrogations vis-à-vis de la théorie ou de la comparaison des modèles.\n",
    "\n",
    "#### Question 1 - Choix de la méthode de validation\n",
    "Nous avons opté pour une K-Cross-Validation pour valider nos modèles. Il nous semblait au'il s'agissait de la méthode la plus appropriée car c'est un bon compromis entre le temps nécessaire et la fiabilité de nos résultats. Nos modèles ont un temps d'apprentissage assez long donc la méthode leave-one-out et leave-p-out rendait le processus bien trop long.\n",
    "Nous avons choisi F1-Mesure comme métrique car c'est un indicateur qui prend en compte la pécision et le rappel. Nous avons aussi choisi d'étudier le temps d'apprentissage pour validité l'extensibilité de nos modèles. \n",
    "\n",
    "### Importation des modules nécessaires"
   ]
  },
  {
   "cell_type": "code",
   "execution_count": 1,
   "metadata": {},
   "outputs": [
    {
     "name": "stderr",
     "output_type": "stream",
     "text": [
      "Using TensorFlow backend.\n"
     ]
    }
   ],
   "source": [
    "import numpy as np\n",
    "import matplotlib.pyplot as plt\n",
    "%matplotlib inline\n",
    "import pandas as pd\n",
    "from sklearn.model_selection import train_test_split\n",
    "from sklearn.svm import SVC\n",
    "from sklearn.model_selection import cross_val_score\n",
    "from sklearn.model_selection import StratifiedShuffleSplit\n",
    "from sklearn.model_selection import GridSearchCV\n",
    "from sklearn.metrics import f1_score\n",
    "from sklearn import preprocessing\n",
    "import time\n",
    "import datetime\n",
    "from sklearn.model_selection import KFold\n",
    "from keras import backend as K\n",
    "import tensorflow as tf\n",
    "from tensorflow import keras\n",
    "%reload_ext tensorboard\n",
    "import csv"
   ]
  },
  {
   "cell_type": "markdown",
   "metadata": {},
   "source": [
    "### Extraction des données\n",
    "Nous allons utiliser les données que nous avons extrait lors du TP01 qui seront fusionnées avec celles mises à disposition pour le TP02"
   ]
  },
  {
   "cell_type": "code",
   "execution_count": 2,
   "metadata": {},
   "outputs": [],
   "source": [
    "df_galaxy_1 = pd.read_csv('galaxy_features', header = 0).drop(['Unnamed: 0', 'central pixel red', 'central pixel green',\n",
    "                                                               'central pixel blue', 'galaxy_type'], axis = 1)\n",
    "df_galaxy_2 = pd.read_csv('galaxy_feature_vectors.csv', header = None)\n",
    "df_galaxy_2 = df_galaxy_2.rename(columns = {df_galaxy_2.columns[0] : df_galaxy_1.columns[0]})\n",
    "df_galaxy = pd.merge(df_galaxy_1, df_galaxy_2, on = ['image name'])\n",
    "y_galaxy = df_galaxy[df_galaxy.columns[79]]\n",
    "X_galaxy = df_galaxy[df_galaxy.columns[1:78]]"
   ]
  },
  {
   "cell_type": "markdown",
   "metadata": {},
   "source": [
    "#### Question 2 - Normalisation des données\n",
    "Il est nécessaire de normaliser les données pour qu'elles soient toutes considérées à la même échelle. Nous allons donc soustraire la moyenne et diviser par l'écart-type de chaque caractéristique."
   ]
  },
  {
   "cell_type": "code",
   "execution_count": 3,
   "metadata": {},
   "outputs": [],
   "source": [
    "std_scale = preprocessing.StandardScaler().fit(X_galaxy)\n",
    "\n",
    "X_galaxy = std_scale.transform(X_galaxy)"
   ]
  },
  {
   "cell_type": "markdown",
   "metadata": {},
   "source": [
    "Maintenant que nous avons toutes nos données nous allons les diviser pour pouvoir étudier la capacité de nos modèles à fonctionner en augmentant le nombre de l'échantillon étudié. Nous allons prendre 10%, 25%, 50%, 75% et 100% de nos données."
   ]
  },
  {
   "cell_type": "code",
   "execution_count": 4,
   "metadata": {},
   "outputs": [],
   "source": [
    "X_galaxy_10 = X_galaxy[0:int(X_galaxy.shape[0]/10)]\n",
    "y_galaxy_10 = y_galaxy[0:int(y_galaxy.shape[0]/10)]\n",
    "\n",
    "X_galaxy_25 = X_galaxy[0:int(X_galaxy.shape[0]/4)]\n",
    "y_galaxy_25 = y_galaxy[0:int(y_galaxy.shape[0]/4)]\n",
    "\n",
    "X_galaxy_50 = X_galaxy[0:int(X_galaxy.shape[0]/2)]\n",
    "y_galaxy_50 = y_galaxy[0:int(y_galaxy.shape[0]/2)]\n",
    "\n",
    "X_galaxy_75 = X_galaxy[0:int(3*X_galaxy.shape[0]/4)]\n",
    "y_galaxy_75 = y_galaxy[0:int(3*y_galaxy.shape[0]/4)]\n",
    "\n",
    "X_galaxy_data = [X_galaxy_10, X_galaxy_25, X_galaxy_50, X_galaxy_75, X_galaxy]\n",
    "y_galaxy_data = [y_galaxy_10, y_galaxy_25, y_galaxy_50, y_galaxy_75, y_galaxy]\n",
    "repartition = [10, 25, 50, 75, 100]"
   ]
  },
  {
   "cell_type": "markdown",
   "metadata": {},
   "source": [
    "## Réseau neuronaux\n",
    "Le premier modèle de réseaux de neurones a été imaginé par Rosenblatt et s'appelle le perceptron. Il s'agit d'un réseau de neurones à propagation avant et qui ne contient donc pas de cycles de réajustement. Le réseau de neurones que nous allons présenter sera différent car il aura plusieurs cycles de réajustement. Nous travaillerons sur plusieurs hyperparamètres pour essayer de comprendre comment optimiser un tel modèle et voir comment il réagit au sur-entraînement et sous-entraînement."
   ]
  },
  {
   "cell_type": "markdown",
   "metadata": {},
   "source": [
    "#### Question 3 : Structure de notre réseau de neurones\n",
    "Nous avons construit notre réseau de neurones grâce aux bibliothèques TensorFlow et Keras. Nous avons choisi un modèle Sequential car il est facilement abordable pour des personnes qui construisent leur premier réseau de neurones. Comme son nom l'indique il se construit de manière séquentielle. Il suffit d'imaginer le nombres de couches que l'on désire avec le nombre de perceptrons voulus, la fonction de validation et écrire la ligne de code correspondante à chaque couche.\n",
    "\n",
    "Nous avons construit un modèle de base en suivant les consignes de l'énoncé. Voici les paramètres que nous avons choisi :\n",
    "\n",
    "| Nb de couches total | Nb de perceptrons par couches cachées| Nb d’itérations | Coefficient d'apprentissage|\n",
    "|-----------------------|-----------------------------------------|-------------------|-----------|\n",
    "| 4 | 100,100 | 60 | 0.0005 |\n",
    "\n",
    "Nous avons décidé de construire 12 modèles différents à partir de ces caractéristiques en changeant 3 fois chacuns de ces hyperparamètres :\n",
    "\n",
    "| Nb de couches total | Nb de perceptrons par couches cachées| Nb d’itérations | Coefficient d'apprentissage |\n",
    "|-----------------------|-----------------------------------------|-------------------|-----------|\n",
    "| 0 | _ | 60 | 0.0005 |\n",
    "| 6 | 100,100,100,100,100,100 | 60 | 0.0005 |\n",
    "| 10 | 100,100,100,100,100,100,100,100,100,100,100 | 60 | 0.0005 |\n",
    "| 4 | 150,50 | 60 | 0.0005 |\n",
    "| 4 | 50,150 | 60 | 0.0005 |\n",
    "| 4 | 1000,1000 | 60 | 0.0005 |\n",
    "| 4 | 100,100 | 6 | 0.0005 |\n",
    "| 4 | 100,100 | 600 | 0.0005 |\n",
    "| 4 | 100,100 | 6000 | 0.0005 |\n",
    "| 4 | 100,100 | 60 | 1.5 |\n",
    "| 4 | 100,100 | 60 | 0.5 |\n",
    "| 4 | 100,100 | 60 | 0.00005 |\n",
    "\n",
    "Nous avons utilisé la fonction d'activation ReLU pour les couches cachés et la fonction d'activation Softmax pour la dernière couche. Notre fonction de coût est la fonction d'entropie croisée car nous somme dans un cas de classification binaire et qu'il s'agit d'une fonction qui ne va pas être trop gourmande en temps de calcul et qui à un lien avec la perplexité, c'est à dire l'efficacité de notre modèle à exécuter une tâche."
   ]
  },
  {
   "cell_type": "markdown",
   "metadata": {},
   "source": [
    "Ici nous normalisons nos données."
   ]
  },
  {
   "cell_type": "code",
   "execution_count": 5,
   "metadata": {},
   "outputs": [],
   "source": [
    "y_galaxy = keras.utils.to_categorical(y_galaxy, num_classes=2)\n",
    "std_scale = preprocessing.StandardScaler().fit(X_galaxy)\n",
    "X_galaxy = std_scale.transform(X_galaxy)"
   ]
  },
  {
   "cell_type": "markdown",
   "metadata": {},
   "source": [
    "Tensorboard n'a pas de F1-Mesure dans sa bibliothèaue, nous l'avons donc redéfini."
   ]
  },
  {
   "cell_type": "code",
   "execution_count": 6,
   "metadata": {},
   "outputs": [],
   "source": [
    "def recall_m(y_true, y_pred):\n",
    "        true_positives = K.sum(K.round(K.clip(y_true * y_pred, 0, 1)))\n",
    "        possible_positives = K.sum(K.round(K.clip(y_true, 0, 1)))\n",
    "        recall = true_positives / (possible_positives + K.epsilon())\n",
    "        return recall\n",
    "\n",
    "def precision_m(y_true, y_pred):\n",
    "        true_positives = K.sum(K.round(K.clip(y_true * y_pred, 0, 1)))\n",
    "        predicted_positives = K.sum(K.round(K.clip(y_pred, 0, 1)))\n",
    "        precision = true_positives / (predicted_positives + K.epsilon())\n",
    "        return precision\n",
    "\n",
    "def f1_m(y_true, y_pred):\n",
    "    precision = precision_m(y_true, y_pred)\n",
    "    recall = recall_m(y_true, y_pred)\n",
    "    return 2*((precision*recall)/(precision+recall+K.epsilon()))"
   ]
  },
  {
   "cell_type": "markdown",
   "metadata": {},
   "source": [
    "Création de nos listes d'essai."
   ]
  },
  {
   "cell_type": "code",
   "execution_count": 7,
   "metadata": {},
   "outputs": [],
   "source": [
    "list_essai = [[[100,100],60,0.0005],\n",
    "              [[],60,0.005],\n",
    "              [[100,100,100,100],60,0.0005],\n",
    "              [[100,100,100,100,100,100,100,100],60,0.0005],\n",
    "              [[150,50],60,0.0005],\n",
    "              [[50,150],60,0.0005],\n",
    "              [[1000,1000],60,0.0005],\n",
    "              [[100,100],6,0.0005],\n",
    "              [[100,100],600,0.0005],\n",
    "              [[100,100],6000,0.0005],\n",
    "              [[100,100],60,1.5],\n",
    "              [[100,100],60,0.5],\n",
    "              [[100,100],60,0.00005]]\n",
    "\n",
    "nom_essai = ['base',\n",
    "            'zero_couches',\n",
    "            'six_couches',\n",
    "            'dix_couches',\n",
    "            'nb_neurones_1',\n",
    "            'nb_neurones_2',\n",
    "            'nb_neurones_3',\n",
    "            '6_epochs',\n",
    "            '600_epochs',\n",
    "            '6000_epochs',\n",
    "            'lr_1',\n",
    "            'lr_2',\n",
    "            'lr_3']"
   ]
  },
  {
   "cell_type": "markdown",
   "metadata": {},
   "source": [
    "## Remarque\n",
    "Comme l'entraînement de tous nos modèles était très long nous avons joint les fichiers nécessaires à l'ouverture de TensorBoard, ils sont nommés en fonction de la caractéristique aue nous avons modifié.\n",
    "Il n'est donc pas nécessaire de faire tourner la celulle suivante."
   ]
  },
  {
   "cell_type": "code",
   "execution_count": null,
   "metadata": {},
   "outputs": [],
   "source": [
    "list_time_learn = []\n",
    "list_time_test = []\n",
    "list_loss = []\n",
    "list_accuracy = []\n",
    "list_f1_score = []\n",
    "\n",
    "for k in range(len(list_essai)) :\n",
    "    model = keras.Sequential()\n",
    "    model.add(tf.keras.layers.Flatten(input_shape=(X_galaxy.shape[1],)))\n",
    "    for l in list_essai[k][0] :\n",
    "        model.add(keras.layers.Dense(l, activation = 'relu'))\n",
    "    model.add(keras.layers.Dense(2, activation = 'softmax'))\n",
    "\n",
    "    model.compile(optimizer=keras.optimizers.SGD(list_essai[k][2]),\n",
    "                 loss='binary_crossentropy',\n",
    "                 metrics=['accuracy',f1_m])\n",
    "\n",
    "    log_dir=\"logs\\\\fit\\\\\" + datetime.datetime.now().strftime(\"%Y%m%d-%H%M%S\") + nom_essai[k]\n",
    "    tensorboard_callback = tf.keras.callbacks.TensorBoard(log_dir=log_dir, histogram_freq=1)\n",
    "    \n",
    "    model.fit(X_galaxy, \n",
    "              y_galaxy,\n",
    "              batch_size=100,\n",
    "              epochs=list_essai[k][1],\n",
    "              validation_split = 0.2,\n",
    "              callbacks=[tensorboard_callback]\n",
    "              )\n",
    "    \n",
    "    n_split=5\n",
    "    \n",
    "    sub_learn = []\n",
    "    sub_test = []\n",
    "    sub_loss = []\n",
    "    sub_accuracy = []\n",
    "    sub_f1_score = []\n",
    " \n",
    "    for train_index, test_index in KFold(n_split).split(X_galaxy):\n",
    "        X_train,X_test=X_galaxy[train_index],X_galaxy[test_index]\n",
    "        y_train,y_test=y_galaxy[train_index],y_galaxy[test_index]\n",
    "        \n",
    "        std_scale = preprocessing.StandardScaler().fit(X_train)\n",
    "        X_train = std_scale.transform(X_train)  \n",
    "        X_test = std_scale.transform(X_test)        \n",
    "        \n",
    "        t_learn = time.time()\n",
    "        model.fit(X_train, \n",
    "                  y_train,\n",
    "                  epochs=list_essai[k][1],\n",
    "                  batch_size=100)\n",
    "        t_learn = time.time() - t_learn\n",
    "        \n",
    "        t_test = time.time()\n",
    "        loss, accuracy, f1_score = model.evaluate(X_test, y_test)\n",
    "        t_test = time.time()\n",
    "        \n",
    "        sub_learn.append(t_learn)\n",
    "        sub_test.append(t_test)\n",
    "        sub_loss.append(loss)\n",
    "        sub_accuracy.append(accuracy)\n",
    "        sub_f1_score.append(f1_score)\n",
    "    \n",
    "    list_time_learn.append(np.mean(sub_learn))\n",
    "    list_time_test.append(np.mean(sub_test))\n",
    "    list_loss.append(np.mean(sub_loss))\n",
    "    list_accuracy.append(np.mean(sub_accuracy))\n",
    "    list_f1_score.append(np.mean(sub_f1_score))    "
   ]
  },
  {
   "cell_type": "code",
   "execution_count": null,
   "metadata": {},
   "outputs": [],
   "source": [
    "pd.DataFrame(list_time_learn).to_csv('list_time_learn')\n",
    "pd.DataFrame(list_time_test).to_csv('list_time_test')\n",
    "pd.DataFrame(list_loss).to_csv('list_loss')\n",
    "pd.DataFrame(list_accuracy).to_csv('list_accuracy')\n",
    "pd.DataFrame(list_f1_score).to_csv('list_f1_score')"
   ]
  },
  {
   "cell_type": "markdown",
   "metadata": {},
   "source": [
    "Cellule permettant l'ouverture de TensorBoard"
   ]
  },
  {
   "cell_type": "code",
   "execution_count": 13,
   "metadata": {
    "scrolled": true
   },
   "outputs": [
    {
     "data": {
      "text/plain": [
       "ERROR: Timed out waiting for TensorBoard to start. It may still be running as pid 12524."
      ]
     },
     "metadata": {},
     "output_type": "display_data"
    }
   ],
   "source": [
    "import os\n",
    "os.getcwd()\n",
    "os.makedirs('logs', exist_ok=True)\n",
    "%tensorboard --logdir logs/fit --host localhost --port 8080"
   ]
  },
  {
   "cell_type": "markdown",
   "metadata": {},
   "source": [
    "#### Question 4 - Sur-apprentissage\n",
    "Les graphiques nous ont permis de mettre en évidence le phénomène de sur-apprentissage. En effet sur le graphe suivant où nous avons mis le nombre d'itérations égale à 6000 on remarque la fonction de perte de la validation augmente après 2000 epochs.\n",
    "![Sur-apprentissage](Graphe/loss_6000.PNG)\n",
    "En orange nous avons la courbe pour les données d'entrainement et en bleu pour les données de validation. Le phénomène est très visible ici car le modèle continue à performer sur le jeu d'entraînement mais une fois qu'il passe un certain nombre d'itération, la courbe de la validation ne suit plus. En effet le modèle est trop entraîné sur les données initiales et ne se généralise pas. On peut estimer, d'après ce graphique, que le nombre optimal d'epochs est autour de 2000. "
   ]
  },
  {
   "cell_type": "code",
   "execution_count": 16,
   "metadata": {},
   "outputs": [],
   "source": [
    "list_time_learn = pd.read_csv('list_time_learn',index_col = 0)\n",
    "list_time_learn = [list_time_learn.iloc[k][0] for k in range(13)]\n",
    "list_time_test =  pd.read_csv('list_time_test',index_col = 0)\n",
    "list_time_test = [list_time_test.iloc[k][0] for k in range(13)]\n",
    "list_loss = pd.read_csv('list_loss',index_col = 0)\n",
    "list_loss = [list_loss.iloc[k][0] for k in range(13)]\n",
    "list_accuracy = pd.read_csv('list_accuracy',index_col = 0)\n",
    "list_accuracy = [list_accuracy.iloc[k][0] for k in range(13)]\n",
    "list_f1_score = pd.read_csv('list_f1_score',index_col = 0)\n",
    "list_f1_score = [list_f1_score.iloc[k][0] for k in range(13)]"
   ]
  },
  {
   "cell_type": "code",
   "execution_count": 22,
   "metadata": {},
   "outputs": [
    {
     "data": {
      "image/png": "[encoded data removed]",
      "text/plain": [
       "<Figure size 1440x720 with 2 Axes>"
      ]
     },
     "metadata": {
      "needs_background": "light"
     },
     "output_type": "display_data"
    }
   ],
   "source": [
    "plt.figure(figsize = (20,10))\n",
    "\n",
    "plt.subplot(1,2,1)\n",
    "plt.barh(nom_essai, list_f1_score)\n",
    "plt.title('F1 Mesure des différents modèles')\n",
    "plt.grid()\n",
    "\n",
    "plt.subplot(1,2,2)\n",
    "plt.barh(nom_essai, list_accuracy)\n",
    "plt.title('Précision des différents modèles')\n",
    "plt.grid()"
   ]
  },
  {
   "cell_type": "markdown",
   "metadata": {},
   "source": [
    "A vue d'oeil on remarque que les modèles avec 6000 et 600 epochs ainsi que ceux qui ont un learning rate égale à 1,5 et 0,5 se détachent en terme de précision et de f1-mesure, ils présentent les meilleurs performance.\n",
    "\n",
    "Rappelons que le nombre d'epochs correspond au nombre d'itérations que fait le modèle pour se réajuster vis à vis des données d'entraînement. Ce paramètre permet donc de se rapprocher du meilleur compromis entre sous-apprentissage et sur-apprentissage.\n",
    "\n",
    "Le learning rate est un paramètre qui rentre en compte dans la méthode de descente des gradients utilisée pour trouver un minimum global et donc la meilleure performance. Ce coefficient permet de calculer la distance entre chaque point étudié.\n",
    "\n",
    "Le nombre de neurones par couche permet de spécifier un ordre de grandeur des calculs à effectuer par l'algorithme et le nombre de couches va permettre de linéariser le problème.\n",
    "\n",
    "D'après ce qu'on a pu voir à la question précédente il vaut mieux écarter le modèle avec 6000 itérations car il présente un problème de généralisation."
   ]
  },
  {
   "cell_type": "code",
   "execution_count": 24,
   "metadata": {},
   "outputs": [
    {
     "data": {
      "image/png": "[encoded data removed]",
      "text/plain": [
       "<Figure size 1440x720 with 2 Axes>"
      ]
     },
     "metadata": {
      "needs_background": "light"
     },
     "output_type": "display_data"
    }
   ],
   "source": [
    "plt.figure(figsize = (20,10))\n",
    "\n",
    "plt.subplot(1,2,1)\n",
    "plt.barh(nom_essai, list_time_learn)\n",
    "plt.title('Temps d\\'apprentissage des différents modèles')\n",
    "plt.grid()\n",
    "\n",
    "plt.subplot(1,2,2)\n",
    "plt.barh(nom_essai, list_time_test)\n",
    "plt.title('Temps de prédiction des différents modèles')\n",
    "plt.grid()"
   ]
  },
  {
   "cell_type": "markdown",
   "metadata": {},
   "source": [
    "On remarque qu'importe le modèle choisi le temps de prédiction est le même et il est très rapide (moins d'1,6 seconde). Cependant les temps d'entraînement sont très différents et le nombre de neurones et le nombre d'itérations sont les principaux paramètres à l'origine de ce phénomène."
   ]
  },
  {
   "cell_type": "markdown",
   "metadata": {},
   "source": [
    "## Machine à vecteurs de support\n",
    "Ce modèle a été imaginé grâce à la théorie de Vapnik-Tchervonenkis et est populaire pour sa capacité à s'adapter aux grands échantillons de données.\n",
    "La première idée sur laquelle repose les SVM est qu'il existe une marge, un espace entre les frontières de séparations des labels, qui peut être maximisé et donc finie. On cherche donc à délimiter cette marge pour ensuite classifier les nouvelles données.\n",
    "La notion avancée ci-dessous est très efficace pour des problèmes linéaires mais une fois que nous passons dans des cas non linéaires, ce modèle pourrait montrer ses limites. Heureusement il existe une seconde idée dite kernel trick. Nous considérons maintenant le problème dans un espace de dimension supérieur, voir infinie. Et il est maintenant probable qu'il existe une séparation linaire. Il est nécessaire d'introduire une fonction noyau qui permettra de faciliter les calculs et qui a l'avantage d'avoir une forme simple.\n",
    "Nous allons étudier deux fonctions de noyau différentes : linear (polynomiale) et radial base function (s'inspire d'un modèle gaussien)."
   ]
  },
  {
   "cell_type": "markdown",
   "metadata": {},
   "source": [
    "### SVM - Linear - Étude du paramètre C\n",
    "Pour ce modèle nous allons dans une première partie le construire avec une fonction noyeau linéaire.\n",
    "Le paramètre étudié ici est C. Le paramètre C permet de pénaliser les points mal classifiés dans la marge. Pour des valeurs plus grandes de C, une marge plus petite sera acceptée si la fonction de décision permet de classer correctement tous les points d’entraînement, un C trop élevé sera synonymes de sur-apprentissage. Un C plus faible encouragera une marge plus grande, donc une fonction de décision plus simple, au détriment de la précision de l'entraînement et donc un sous-apprentissage dans les cas extrêmes."
   ]
  },
  {
   "cell_type": "code",
   "execution_count": 7,
   "metadata": {
    "collapsed": true
   },
   "outputs": [
    {
     "name": "stdout",
     "output_type": "stream",
     "text": [
      "0.8908814597472288\n",
      "0.9359289493344936\n",
      "0.9377430758931322\n",
      "0.9347841048003366\n"
     ]
    }
   ],
   "source": [
    "C_range = [0.001, 0.1, 1, 10]\n",
    "resultat_score_svm = []\n",
    "resultat_time_svm = []\n",
    "\n",
    "for k in C_range :\n",
    "    clf = SVC(C = k, kernel = 'linear', class_weight = 'balanced', cache_size = 2048)\n",
    "    t = time.time()\n",
    "    score = cross_val_score(clf, X_galaxy_10, y_galaxy_10, cv=10, scoring='f1_macro').mean()\n",
    "    t = time.time() - t\n",
    "    resultat_score_svm.append(score)\n",
    "    resultat_time_svm.append(t)\n",
    "    print(score)"
   ]
  },
  {
   "cell_type": "code",
   "execution_count": 10,
   "metadata": {},
   "outputs": [
    {
     "data": {
      "image/png": "[encoded data removed]",
      "text/plain": [
       "<Figure size 1080x720 with 2 Axes>"
      ]
     },
     "metadata": {
      "needs_background": "light"
     },
     "output_type": "display_data"
    }
   ],
   "source": [
    "plt.figure(figsize=(15,10))\n",
    "\n",
    "plt.subplot(1,2,1)\n",
    "plt.grid()\n",
    "plt.plot(C_range, resultat_score_svm, 'ro')\n",
    "plt.title('F1-Mesure en fonction de C')\n",
    "plt.xlabel('C')\n",
    "plt.ylabel('F1-Mesure')\n",
    "plt.xscale('log')\n",
    "\n",
    "plt.subplot(1,2,2)\n",
    "plt.plot(C_range, resultat_time_svm, 'ro')\n",
    "plt.title('Temps d\\'entraînement en fonction de C')\n",
    "plt.xlabel('C')\n",
    "plt.ylabel('Temps en s')\n",
    "plt.xscale('log')\n",
    "plt.grid()"
   ]
  },
  {
   "cell_type": "markdown",
   "metadata": {},
   "source": [
    "Pour C = 1 nous avons unre très bonne F1-Mesure et un temps d'apprentissage très correct."
   ]
  },
  {
   "cell_type": "markdown",
   "metadata": {},
   "source": [
    "### Étude de la capacité du modèle à s'adapter à la taille de l'échantillon\n",
    "Pour étudier la scalability nous prendrons le meilleur paramètre de l'étude précédente."
   ]
  },
  {
   "cell_type": "code",
   "execution_count": 11,
   "metadata": {
    "collapsed": true
   },
   "outputs": [
    {
     "name": "stdout",
     "output_type": "stream",
     "text": [
      "0.9377430758931322\n",
      "0.9405572590588435\n",
      "0.9451162321298785\n",
      "0.9480236633297926\n",
      "0.9481934788212516\n"
     ]
    }
   ],
   "source": [
    "scalability_score_svm = []\n",
    "scalability_time_svm = []\n",
    "\n",
    "best_C = C_range[np.argmax(resultat_score_svm)]\n",
    "\n",
    "clf = SVC(C = best_C, kernel = 'linear', class_weight = 'balanced', cache_size = 2048)\n",
    "        \n",
    "for k in range(len(X_galaxy_data)):\n",
    "    t = time.time()\n",
    "    score = cross_val_score(clf, X_galaxy_data[k], y_galaxy_data[k], cv=10, scoring='f1_macro').mean()\n",
    "    t = time.time() - t\n",
    "    scalability_score_svm.append(score)\n",
    "    scalability_time_svm.append(t)\n",
    "    print(score)"
   ]
  },
  {
   "cell_type": "code",
   "execution_count": 17,
   "metadata": {},
   "outputs": [
    {
     "data": {
      "text/plain": [
       "Text(0, 0.5, 'F1-Mesure')"
      ]
     },
     "execution_count": 17,
     "metadata": {},
     "output_type": "execute_result"
    },
    {
     "data": {
      "image/png": "[encoded data removed]",
      "text/plain": [
       "<Figure size 1080x720 with 2 Axes>"
      ]
     },
     "metadata": {
      "needs_background": "light"
     },
     "output_type": "display_data"
    }
   ],
   "source": [
    "plt.figure(figsize=(15,10))\n",
    "\n",
    "plt.subplot(1,2,1)\n",
    "plt.grid()\n",
    "plt.plot(repartition, scalability_time_svm,'bo')\n",
    "plt.title('Temps d\\'entraînement en fonction de la taille de l\\'échantillon')\n",
    "plt.xlabel('Taille de l\\'échantillon en %')\n",
    "plt.ylabel('Temps d\\'entraînement')\n",
    "\n",
    "plt.subplot(1,2,2)\n",
    "plt.grid()\n",
    "plt.plot(repartition, scalability_score_svm,'bo')\n",
    "plt.title('F1-Mesure en fonction de la taille de l\\'échantillon')\n",
    "plt.xlabel('Taille de l\\'échantillon en %')\n",
    "plt.ylabel('F1-Mesure')"
   ]
  },
  {
   "cell_type": "markdown",
   "metadata": {},
   "source": [
    "On remarque que notre modèle supporte très bien l'extensibilité de nos données. En effet plus nous avons de données et plus il devient performant. Bien sur il y un temps d'entraînement qui est nécessairement plus long. Il serait donc préférable, dans la configuration où nous sommes d'opter pour un échantillon de 75% des données totales pour un bon compromis entre performance et temps d'apprentissage."
   ]
  },
  {
   "cell_type": "markdown",
   "metadata": {},
   "source": [
    "### SVM - RBF - Étude des paramètres C et gamma\n",
    "Dans ce second modèle nous allons étudier les paramètres C et gamma avec une fonction radiale de base. Intuitivement, le paramètre gamma définit la portée de l’influence d’un seul exemple d’entraînement, les valeurs basses signifiant «loin» et les valeurs élevées signifiant «proche». Les paramètres gamma peuvent être vus comme l'inverse du rayon d'influence des échantillons sélectionnés par le modèle en tant que vecteurs de support."
   ]
  },
  {
   "cell_type": "code",
   "execution_count": 13,
   "metadata": {},
   "outputs": [
    {
     "name": "stdout",
     "output_type": "stream",
     "text": [
      "The best parameters are {'C': 10, 'gamma': 0.001} with a score of 0.94\n"
     ]
    }
   ],
   "source": [
    "gamma_range = C_range\n",
    "param_grid = dict(gamma=gamma_range, C=C_range)\n",
    "cv = StratifiedShuffleSplit(n_splits=5, test_size=0.2, random_state=42)\n",
    "grid = GridSearchCV(SVC(), param_grid=param_grid, cv=cv, scoring='f1_macro', n_jobs = -1)\n",
    "grid.fit(X_galaxy_10, y_galaxy_10)\n",
    "scores = grid.cv_results_['mean_test_score'].reshape(len(C_range), len(gamma_range))\n",
    "\n",
    "print(\"The best parameters are %s with a score of %0.2f\"\n",
    "      % (grid.best_params_, grid.best_score_))"
   ]
  },
  {
   "cell_type": "code",
   "execution_count": 20,
   "metadata": {},
   "outputs": [
    {
     "data": {
      "image/png": "[encoded data removed]",
      "text/plain": [
       "<Figure size 576x432 with 2 Axes>"
      ]
     },
     "metadata": {
      "needs_background": "light"
     },
     "output_type": "display_data"
    }
   ],
   "source": [
    "plt.figure(figsize=(8, 6))\n",
    "plt.subplots_adjust(left=.2, right=0.95, bottom=0.15, top=0.95)\n",
    "plt.imshow(scores, interpolation='nearest', cmap=plt.cm.hot)\n",
    "plt.xlabel('gamma')\n",
    "plt.ylabel('C')\n",
    "plt.colorbar()\n",
    "plt.xticks(np.arange(len(gamma_range)), gamma_range, rotation=45)\n",
    "plt.yticks(np.arange(len(C_range)), C_range)\n",
    "plt.title('F1-Mesure en fonction de C et gamma')\n",
    "plt.show()"
   ]
  },
  {
   "cell_type": "markdown",
   "metadata": {},
   "source": [
    "Grâce au module qui nous permet de croiser les hyperparamètres il apparaît que le meilleur couple est C = 10 et gamma = 0.001."
   ]
  },
  {
   "cell_type": "markdown",
   "metadata": {},
   "source": [
    "### Étude de la capacité du modèle à s'adapter à la taille de l'échantillon\n",
    "Pour étudier la scalability nous prendrons les meilleurs paramètres de l'étude précédente."
   ]
  },
  {
   "cell_type": "code",
   "execution_count": 21,
   "metadata": {
    "collapsed": true
   },
   "outputs": [
    {
     "name": "stdout",
     "output_type": "stream",
     "text": [
      "0.941276633565385\n",
      "0.9431563391301147\n",
      "0.9524407933393908\n",
      "0.956377671017069\n",
      "0.9580003735993727\n"
     ]
    }
   ],
   "source": [
    "scalability_score_rbf = []\n",
    "scalability_time_rbf = []\n",
    "\n",
    "best_C = grid.best_params_[\"C\"]\n",
    "best_gamma = grid.best_params_[\"gamma\"]\n",
    "\n",
    "clf = SVC(C = best_C, gamma = best_gamma, cache_size = 2048)\n",
    "        \n",
    "for k in range(len(X_galaxy_data)):\n",
    "    t = time.time()\n",
    "    score = cross_val_score(clf, X_galaxy_data[k], y_galaxy_data[k], cv=10, scoring='f1_macro').mean()\n",
    "    t = time.time() - t\n",
    "    scalability_score_rbf.append(score)\n",
    "    scalability_time_rbf.append(t)\n",
    "    print(score)"
   ]
  },
  {
   "cell_type": "code",
   "execution_count": 22,
   "metadata": {},
   "outputs": [
    {
     "data": {
      "text/plain": [
       "Text(0, 0.5, 'F1-Mesure')"
      ]
     },
     "execution_count": 22,
     "metadata": {},
     "output_type": "execute_result"
    },
    {
     "data": {
      "image/png": "[encoded data removed]",
      "text/plain": [
       "<Figure size 1080x720 with 2 Axes>"
      ]
     },
     "metadata": {
      "needs_background": "light"
     },
     "output_type": "display_data"
    }
   ],
   "source": [
    "plt.figure(figsize=(15,10))\n",
    "\n",
    "plt.subplot(1,2,1)\n",
    "plt.grid()\n",
    "plt.scatter(repartition, scalability_time_rbf)\n",
    "plt.title('Temps d\\'entraînement en fonction de la taille de l\\'échantillon')\n",
    "plt.xlabel('Taille de l\\'échantillon en %')\n",
    "plt.ylabel('Temps d\\'entraînement')\n",
    "\n",
    "plt.subplot(1,2,2)\n",
    "plt.grid()\n",
    "plt.scatter(repartition, scalability_score_rbf)\n",
    "plt.title('F1-Mesure en fonction de la taille de l\\'échantillon')\n",
    "plt.xlabel('Taille de l\\'échantillon en %')\n",
    "plt.ylabel('F1-Mesure')"
   ]
  },
  {
   "cell_type": "markdown",
   "metadata": {},
   "source": [
    "On remarque que notre modèle supporte très bien l'extensibilité de nos données. En effet plus nous avons de données et plus il devient performant. Bien sur il y un temps d'entraînement qui est nécessairement plus long. Il serait donc préférable, dans la configuration où nous sommes d'opter pour un échantillon de 75% des données totales pour un bon compromis entre performance et temps d'apprentissage."
   ]
  },
  {
   "cell_type": "markdown",
   "metadata": {},
   "source": [
    "#### Question 6 - Méthodologie de sélection de nos hyperparamètres\n",
    "Comme il l'était justement conseillé nous avons choisi mesurer la F1-Mesure et le temps d'apprentissage pour choisir les bon hyperparamètres. Ainsi pour le modèle linéaire nous avons fait varier la valeur de C pour étudier les performances. Avec un C=1 nous avions le meilleur compromis entre temps d'apprentissage et performance.\n",
    "\n",
    "Pour le modèle radial nous avons fait varier C et gamma grâce à une méthode de croisement de toutes les valeurs possibles des paramètres. Nous avons ainsi dégager le meilleur couple : C = 10 et gamma = 0.001.\n",
    "\n",
    "Nous l'avons déjà mentionné mais le paramètre C permet de pénaliser les points mal classifiés dans la marge. Pour des valeurs plus grandes de C, une marge plus petite sera acceptée si la fonction de décision permet de classer correctement tous les points d’entraînement, un C trop élevé sera synonymes de sur-apprentissage. Un C plus faible encouragera une marge plus grande, donc une fonction de décision plus simple, au détriment de la précision de l'entraînement et donc un sous-apprentissage dans les cas extrêmes.\n",
    "\n",
    "Le paramètre gamma définit la portée de l’influence d’un seul exemple d’entraînement, les valeurs basses signifiant «loin» et les valeurs élevées signifiant «proche». Les paramètres gamma peuvent être vus comme l'inverse du rayon d'influence des échantillons sélectionnés par le modèle en tant que vecteurs de support."
   ]
  },
  {
   "cell_type": "markdown",
   "metadata": {},
   "source": [
    "#### Question 7 - Étude de l'extensibilité de nos modèles"
   ]
  },
  {
   "cell_type": "markdown",
   "metadata": {},
   "source": [
    "#### Question 8 - Le modèle optimal\n",
    "\n",
    "Commençons par sortir les meilleurs modèles du réseau de neurones et du SVM. Si on prend individuellement chaque paramètre avec sa fonction de perte, son temps d'entraînement et sa précision on peut combiner le modèle suivant pour le réseau de neurones :\n",
    "- Learning rate = 0,5\n",
    "- Epochs = 2000\n",
    "- 4 couches\n",
    "- Nombre de neurones par couches cachées = 100\n",
    "\n",
    "Pour le SVM, le modèle RBF est le meilleur avec :\n",
    "- C = 10\n",
    "- gamma = 0.001\n",
    "\n",
    "Au vue des résultats en terme de performance il semblerait que le réseau de neurones soit meilleur que le SVM."
   ]
  },
  {
   "cell_type": "markdown",
   "metadata": {},
   "source": [
    "#### Question 9 - Améliorations\n",
    "\n",
    "Nous arrivons maintenant à la fin de ce TP et au vu de tout ce que nous avons pu faire il semblerait que nous pouvions encore rajouter quelques améliorations. En effet nous avons confronté différents paramètres mais de manière individuelle pour le réseau de neurones. Nous aurions pu comme dans le cas du SVM RBF confronter les différents paramètre en duo pour trouver les meilleurs couples. Nous aurions aussi pu faire ceci mais pour confronter les performances en fonction du des paramètres et de l'extensibilité des modèles."
   ]
  },
  {
   "cell_type": "markdown",
   "metadata": {},
   "source": [
    "## Résumé\n",
    "Dans ce TP nous avons pu assimiler deux nouveaux modèles avec leurs différents concepts et aussi leur mise en oeuvre pratique avec du code python. Nous avons aussi pu exploiter TensorBoard qui est un excellent outil de visualisation des performances de nos modèles. De plus cet exercice était très formateur pour se projeter dans un futur métier de Data Scientist et comprendre quelles sont les méthodes à exploiter pour trouver le meilleur modèle."
   ]
  }
 ],
 "metadata": {
  "kernelspec": {
   "display_name": "Python 3",
   "language": "python",
   "name": "python3"
  },
  "language_info": {
   "codemirror_mode": {
    "name": "ipython",
    "version": 3
   },
   "file_extension": ".py",
   "mimetype": "text/x-python",
   "name": "python",
   "nbconvert_exporter": "python",
   "pygments_lexer": "ipython3",
   "version": "3.7.3"
  }
 },
 "nbformat": 4,
 "nbformat_minor": 2
}
